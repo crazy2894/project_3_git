{
 "cells": [
  {
   "cell_type": "code",
   "execution_count": 2,
   "metadata": {},
   "outputs": [
    {
     "name": "stdout",
     "output_type": "stream",
     "text": [
      "Current working directory:  /mnt/e/py_data/project_3_git\n"
     ]
    }
   ],
   "source": [
    "# 기본 작업 경로 설정\n",
    "\n",
    "import os\n",
    "notebook_path = os.path.abspath(\"project_3_git/readme.md\")\n",
    "notebook_dir = os.path.dirname(notebook_path)\n",
    "os.chdir(notebook_dir)\n",
    "\n",
    "# 현재 작업 디렉토리 출력\n",
    "print(\"Current working directory: \", os.getcwd())"
   ]
  },
  {
   "cell_type": "code",
   "execution_count": 3,
   "metadata": {},
   "outputs": [],
   "source": [
    "# json 파일 가져오기\n",
    "import json\n",
    "from sklearn.model_selection import train_test_split\n",
    "\n",
    "# JSON 파일에서 딕셔너리 읽기\n",
    "with open('data/text_data/output_text.json', 'r') as file:\n",
    "    data_loaded = json.load(file)"
   ]
  },
  {
   "cell_type": "code",
   "execution_count": 4,
   "metadata": {},
   "outputs": [],
   "source": [
    "all_of_data_sets = []\n",
    "for i in data_loaded.values():\n",
    "    all_of_data_sets.append(f'입력값 : {i[0]} \\n출력값 : {i[1]}')"
   ]
  },
  {
   "cell_type": "code",
   "execution_count": 5,
   "metadata": {},
   "outputs": [],
   "source": [
    "train_data, test_data = train_test_split(all_of_data_sets, train_size=5000, random_state=42)"
   ]
  },
  {
   "cell_type": "code",
   "execution_count": 6,
   "metadata": {},
   "outputs": [
    {
     "data": {
      "text/plain": [
       "(5000, 994)"
      ]
     },
     "execution_count": 6,
     "metadata": {},
     "output_type": "execute_result"
    }
   ],
   "source": [
    "len(train_data), len(test_data)"
   ]
  },
  {
   "cell_type": "code",
   "execution_count": 7,
   "metadata": {},
   "outputs": [
    {
     "name": "stderr",
     "output_type": "stream",
     "text": [
      "/home/tommy/miniconda3/envs/p3/lib/python3.11/site-packages/tqdm/auto.py:21: TqdmWarning: IProgress not found. Please update jupyter and ipywidgets. See https://ipywidgets.readthedocs.io/en/stable/user_install.html\n",
      "  from .autonotebook import tqdm as notebook_tqdm\n",
      "2024-09-03 21:12:25.606561: E external/local_xla/xla/stream_executor/cuda/cuda_fft.cc:485] Unable to register cuFFT factory: Attempting to register factory for plugin cuFFT when one has already been registered\n",
      "2024-09-03 21:12:25.731578: E external/local_xla/xla/stream_executor/cuda/cuda_dnn.cc:8454] Unable to register cuDNN factory: Attempting to register factory for plugin cuDNN when one has already been registered\n",
      "2024-09-03 21:12:25.767191: E external/local_xla/xla/stream_executor/cuda/cuda_blas.cc:1452] Unable to register cuBLAS factory: Attempting to register factory for plugin cuBLAS when one has already been registered\n",
      "2024-09-03 21:12:26.012777: I tensorflow/core/platform/cpu_feature_guard.cc:210] This TensorFlow binary is optimized to use available CPU instructions in performance-critical operations.\n",
      "To enable the following instructions: AVX2 FMA, in other operations, rebuild TensorFlow with the appropriate compiler flags.\n",
      "2024-09-03 21:12:27.667044: W tensorflow/compiler/tf2tensorrt/utils/py_utils.cc:38] TF-TRT Warning: Could not find TensorRT\n",
      "/home/tommy/miniconda3/envs/p3/lib/python3.11/site-packages/transformers/tokenization_utils_base.py:1601: FutureWarning: `clean_up_tokenization_spaces` was not set. It will be set to `True` by default. This behavior will be depracted in transformers v4.45, and will be then set to `False` by default. For more details check this issue: https://github.com/huggingface/transformers/issues/31884\n",
      "  warnings.warn(\n"
     ]
    }
   ],
   "source": [
    "from transformers import GPT2Tokenizer, GPT2LMHeadModel, EarlyStoppingCallback, DataCollatorForLanguageModeling, Trainer, TrainingArguments\n",
    "from datasets import Dataset\n",
    "\n",
    "def tokenize_function(examples):\n",
    "    return tokenizer(examples['text'], truncation=True, padding=\"max_length\", max_length=128)\n",
    "\n",
    "# Step 1: Tokenizer 및 모델 준비\n",
    "tokenizer = GPT2Tokenizer.from_pretrained('gpt2')\n",
    "model = GPT2LMHeadModel.from_pretrained('gpt2')"
   ]
  },
  {
   "cell_type": "code",
   "execution_count": 8,
   "metadata": {},
   "outputs": [],
   "source": [
    "name_of_f = 'gpt2_base_1'"
   ]
  },
  {
   "cell_type": "code",
   "execution_count": 9,
   "metadata": {},
   "outputs": [
    {
     "name": "stderr",
     "output_type": "stream",
     "text": [
      "Map: 100%|███████████████████████████████████████████████████| 5000/5000 [00:00<00:00, 5578.36 examples/s]\n",
      "Map: 100%|█████████████████████████████████████████████████████| 994/994 [00:00<00:00, 5661.84 examples/s]\n",
      "/home/tommy/miniconda3/envs/p3/lib/python3.11/site-packages/transformers/training_args.py:1525: FutureWarning: `evaluation_strategy` is deprecated and will be removed in version 4.46 of 🤗 Transformers. Use `eval_strategy` instead\n",
      "  warnings.warn(\n"
     ]
    },
    {
     "data": {
      "text/html": [
       "\n",
       "    <div>\n",
       "      \n",
       "      <progress value='11000' max='50000' style='width:300px; height:20px; vertical-align: middle;'></progress>\n",
       "      [11000/50000 52:45 < 3:07:05, 3.47 it/s, Epoch 22/100]\n",
       "    </div>\n",
       "    <table border=\"1\" class=\"dataframe\">\n",
       "  <thead>\n",
       " <tr style=\"text-align: left;\">\n",
       "      <th>Epoch</th>\n",
       "      <th>Training Loss</th>\n",
       "      <th>Validation Loss</th>\n",
       "    </tr>\n",
       "  </thead>\n",
       "  <tbody>\n",
       "    <tr>\n",
       "      <td>1</td>\n",
       "      <td>0.590100</td>\n",
       "      <td>0.529756</td>\n",
       "    </tr>\n",
       "    <tr>\n",
       "      <td>2</td>\n",
       "      <td>0.465100</td>\n",
       "      <td>0.400665</td>\n",
       "    </tr>\n",
       "    <tr>\n",
       "      <td>3</td>\n",
       "      <td>0.410500</td>\n",
       "      <td>0.358309</td>\n",
       "    </tr>\n",
       "    <tr>\n",
       "      <td>4</td>\n",
       "      <td>0.359000</td>\n",
       "      <td>0.337724</td>\n",
       "    </tr>\n",
       "    <tr>\n",
       "      <td>5</td>\n",
       "      <td>0.284000</td>\n",
       "      <td>0.325035</td>\n",
       "    </tr>\n",
       "    <tr>\n",
       "      <td>6</td>\n",
       "      <td>0.296600</td>\n",
       "      <td>0.314362</td>\n",
       "    </tr>\n",
       "    <tr>\n",
       "      <td>7</td>\n",
       "      <td>0.283600</td>\n",
       "      <td>0.310979</td>\n",
       "    </tr>\n",
       "    <tr>\n",
       "      <td>8</td>\n",
       "      <td>0.286200</td>\n",
       "      <td>0.302988</td>\n",
       "    </tr>\n",
       "    <tr>\n",
       "      <td>9</td>\n",
       "      <td>0.264800</td>\n",
       "      <td>0.299770</td>\n",
       "    </tr>\n",
       "    <tr>\n",
       "      <td>10</td>\n",
       "      <td>0.288700</td>\n",
       "      <td>0.296756</td>\n",
       "    </tr>\n",
       "    <tr>\n",
       "      <td>11</td>\n",
       "      <td>0.262800</td>\n",
       "      <td>0.297179</td>\n",
       "    </tr>\n",
       "    <tr>\n",
       "      <td>12</td>\n",
       "      <td>0.255600</td>\n",
       "      <td>0.293336</td>\n",
       "    </tr>\n",
       "    <tr>\n",
       "      <td>13</td>\n",
       "      <td>0.242000</td>\n",
       "      <td>0.296738</td>\n",
       "    </tr>\n",
       "    <tr>\n",
       "      <td>14</td>\n",
       "      <td>0.231000</td>\n",
       "      <td>0.296589</td>\n",
       "    </tr>\n",
       "    <tr>\n",
       "      <td>15</td>\n",
       "      <td>0.245000</td>\n",
       "      <td>0.295096</td>\n",
       "    </tr>\n",
       "    <tr>\n",
       "      <td>16</td>\n",
       "      <td>0.219200</td>\n",
       "      <td>0.298126</td>\n",
       "    </tr>\n",
       "    <tr>\n",
       "      <td>17</td>\n",
       "      <td>0.222800</td>\n",
       "      <td>0.299534</td>\n",
       "    </tr>\n",
       "    <tr>\n",
       "      <td>18</td>\n",
       "      <td>0.211800</td>\n",
       "      <td>0.301257</td>\n",
       "    </tr>\n",
       "    <tr>\n",
       "      <td>19</td>\n",
       "      <td>0.215800</td>\n",
       "      <td>0.300480</td>\n",
       "    </tr>\n",
       "    <tr>\n",
       "      <td>20</td>\n",
       "      <td>0.203100</td>\n",
       "      <td>0.309580</td>\n",
       "    </tr>\n",
       "    <tr>\n",
       "      <td>21</td>\n",
       "      <td>0.200600</td>\n",
       "      <td>0.309999</td>\n",
       "    </tr>\n",
       "    <tr>\n",
       "      <td>22</td>\n",
       "      <td>0.191800</td>\n",
       "      <td>0.311014</td>\n",
       "    </tr>\n",
       "  </tbody>\n",
       "</table><p>"
      ],
      "text/plain": [
       "<IPython.core.display.HTML object>"
      ]
     },
     "metadata": {},
     "output_type": "display_data"
    },
    {
     "name": "stderr",
     "output_type": "stream",
     "text": [
      "There were missing keys in the checkpoint model loaded: ['lm_head.weight'].\n"
     ]
    },
    {
     "data": {
      "text/plain": [
       "TrainOutput(global_step=11000, training_loss=0.31270070275393397, metrics={'train_runtime': 3166.801, 'train_samples_per_second': 157.888, 'train_steps_per_second': 15.789, 'total_flos': 7185530880000000.0, 'train_loss': 0.31270070275393397, 'epoch': 22.0})"
      ]
     },
     "execution_count": 9,
     "metadata": {},
     "output_type": "execute_result"
    }
   ],
   "source": [
    "tokenizer.pad_token = tokenizer.eos_token # 끝 토큰을 그냥 패드토큰으로 지정\n",
    "\n",
    "# 문자열 리스트를 사전으로 변환 후 데이터셋 생성\n",
    "train_dataset = Dataset.from_dict({\"text\": train_data})\n",
    "test_dataset = Dataset.from_dict({\"text\": test_data})\n",
    "\n",
    "# `text` 열의 데이터가 문자열 리스트 형태인지 확인합니다\n",
    "train_dataset = train_dataset.map(tokenize_function, batched=True, remove_columns=[\"text\"])\n",
    "test_dataset = test_dataset.map(tokenize_function, batched=True, remove_columns=[\"text\"])\n",
    "\n",
    "# Data collator 준비\n",
    "data_collator = DataCollatorForLanguageModeling(\n",
    "    tokenizer=tokenizer,\n",
    "    mlm=False\n",
    ")\n",
    "\n",
    "# Step 5: TrainingArguments 설정\n",
    "training_args = TrainingArguments(\n",
    "    output_dir=f'models/gpt2/{name_of_f}/',\n",
    "    overwrite_output_dir=True,\n",
    "    num_train_epochs=100,\n",
    "    per_device_train_batch_size=10,\n",
    "    per_device_eval_batch_size=10,\n",
    "    save_steps=100,\n",
    "    save_total_limit=5,\n",
    "    save_strategy='epoch',\n",
    "    evaluation_strategy='epoch',\n",
    "    load_best_model_at_end=True,\n",
    "    report_to='tensorboard',  # TensorBoard로 로깅\n",
    "    logging_dir=f'models/gpt2/{name_of_f}/logs',  # 로그 파일이 저장될 디렉토리\n",
    "    logging_steps=10,  # 로깅 간격\n",
    "    remove_unused_columns=False ,\n",
    "\n",
    "    # 추가 인자\n",
    "    learning_rate=5e-5,                     # 기본값에서 시작\n",
    "    lr_scheduler_type=\"linear\",             # 스케줄러\n",
    "    warmup_steps=500,                       # 500 스텝 동안 학습률을 점진적으로 증가\n",
    "    weight_decay=0.01,                      # l2 정규화 기법 중 하나\n",
    "    max_grad_norm=1.0,                      # 그라디언트 클리핑\n",
    ")\n",
    "\n",
    "# Step 6: Trainer 설정 및 학습 시작\n",
    "trainer = Trainer(\n",
    "    model=model,\n",
    "    args=training_args,\n",
    "    data_collator=data_collator,\n",
    "    train_dataset=train_dataset,\n",
    "    eval_dataset=test_dataset,  # 평가 데이터셋 추가\n",
    "    callbacks = [EarlyStoppingCallback(early_stopping_patience=10)]\n",
    ")\n",
    "\n",
    "trainer.train()"
   ]
  },
  {
   "cell_type": "code",
   "execution_count": 10,
   "metadata": {},
   "outputs": [
    {
     "data": {
      "text/plain": [
       "('models/gpt2/gpt2_base_1/models/tokenizer/tokenizer_config.json',\n",
       " 'models/gpt2/gpt2_base_1/models/tokenizer/special_tokens_map.json',\n",
       " 'models/gpt2/gpt2_base_1/models/tokenizer/vocab.json',\n",
       " 'models/gpt2/gpt2_base_1/models/tokenizer/merges.txt',\n",
       " 'models/gpt2/gpt2_base_1/models/tokenizer/added_tokens.json')"
      ]
     },
     "execution_count": 10,
     "metadata": {},
     "output_type": "execute_result"
    }
   ],
   "source": [
    "# Step 6: 모델 저장\n",
    "model.save_pretrained(f'models/gpt2/{name_of_f}/models')\n",
    "tokenizer.save_pretrained(f'models/gpt2/{name_of_f}/models/tokenizer')"
   ]
  },
  {
   "cell_type": "code",
   "execution_count": 27,
   "metadata": {},
   "outputs": [
    {
     "name": "stderr",
     "output_type": "stream",
     "text": [
      "The attention mask and the pad token id were not set. As a consequence, you may observe unexpected behavior. Please pass your input's `attention_mask` to obtain reliable results.\n",
      "Setting `pad_token_id` to `eos_token_id`:50256 for open-end generation.\n"
     ]
    },
    {
     "name": "stdout",
     "output_type": "stream",
     "text": [
      "Generated Text 1:\n",
      "입력값 : 기쁨, 분노, 나무, 자전거 \n",
      "출력값 : 아주 행복한 분위기가 느껴지네요! 🌳 자전거 타고 즐거운 표현이 되었나요? 자전거에는 모습이 너무 예쁘고 잘 있여와있어요! 😊🌆❤️✨✨✨✥ 분노가 어두운 사연하시는 �\n",
      "\n",
      "Generated Text 2:\n",
      "입력값 : 기쁨, 분노, 나무, 자전거 \n",
      "출력값 : 너무 기뻐 보이세요! 나무와 함께하는 모습이 정말 아름다워요! 자전거 표정도 눈부만 세련도 보기 세련되에서 감춰으로는 것 같아요. 😊🌳😊🏾️🖤️ 어디�이 어떤 순간을 �\n",
      "\n",
      "Generated Text 3:\n",
      "입력값 : 기쁨, 분노, 나무, 자전거 \n",
      "출력값 : 너무 기뻐 보이시네요! 🌳 나무와 자전거 속은 보입니다. 자전거도 스타일리쉬하십니다! 😊✨✨✨🚴‍♊✨ 조금 담길� 밀척워 보이습니다 🍽️👻✨✪�니 듯해요! 😊✨✨✊✨️ 행복한 순간이�\n",
      "\n",
      "Generated Text 4:\n",
      "입력값 : 기쁨, 분노, 나무, 자전거 \n",
      "출력값 : 즐거운 모습이 정말 화나신 것 같아요! 😰 나무가 배경에 담겨 있으면 좋은 모습이라네요. 기분이 인상적입니다. 자전거 푸르들에 도움이 함께하십니다! 🌳✨✨️😊🏔️🌳️ 행복\n",
      "\n",
      "Generated Text 5:\n",
      "입력값 : 기쁨, 분노, 나무, 자전거 \n",
      "출력값 : 기쁜 분위기가 가득하네요! 나무 배경이 너무 아름답네요. 자전거 타고 있나신 모습이 정말 멋져요. 🍃💪✨✨✧� 멋져요의 모습이 신비롭습니다! 😊✨✊✩✌�️✨💙��기� 조합니다! 👻\n",
      "\n"
     ]
    }
   ],
   "source": [
    "from transformers import GPT2LMHeadModel\n",
    "\n",
    "# 저장된 모델 및 토크나이저 불러오기\n",
    "model_path = f'models/gpt2/{name_of_f}/models/'\n",
    "model = GPT2LMHeadModel.from_pretrained(model_path)\n",
    "\n",
    "# 평가 모드로 변경\n",
    "model.eval()\n",
    "\n",
    "def generate_text(prompt, model, tokenizer, max_length=128, num_return_sequences=5):\n",
    "    # 입력 텍스트를 토큰화\n",
    "    inputs = tokenizer.encode(prompt, return_tensors='pt')\n",
    "\n",
    "    # 생성 인자를 설정하여 모델이 텍스트를 생성\n",
    "    outputs = model.generate(\n",
    "        inputs,\n",
    "        max_length=max_length,\n",
    "        num_return_sequences=num_return_sequences,\n",
    "        no_repeat_ngram_size=30,\n",
    "        top_k=50,\n",
    "        top_p=0.85,\n",
    "        temperature=1.7,\n",
    "        do_sample=True,\n",
    "        early_stopping=True\n",
    "    )\n",
    "\n",
    "    # 생성된 텍스트를 디코딩\n",
    "    generated_texts = [tokenizer.decode(output, skip_special_tokens=True) for output in outputs]\n",
    "    \n",
    "    return generated_texts\n",
    "\n",
    "# 예시: \"prompt\"에 원하는 문장을 넣어서 결과를 확인\n",
    "prompt = \"입력값 : 기쁨, 분노, 나무, 자전거 \\n출력값 :\"\n",
    "generated_texts = generate_text(prompt, model, tokenizer)\n",
    "    \n",
    "for i, text in enumerate(generated_texts):\n",
    "    print(f\"Generated Text {i+1}:\")\n",
    "    print(text)\n",
    "    print()"
   ]
  }
 ],
 "metadata": {
  "kernelspec": {
   "display_name": "Python 3 (ipykernel)",
   "language": "python",
   "name": "python3"
  }
 },
 "nbformat": 4,
 "nbformat_minor": 2
}
