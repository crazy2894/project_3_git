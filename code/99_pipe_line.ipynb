{
 "cells": [
  {
   "cell_type": "code",
   "execution_count": null,
   "metadata": {},
   "outputs": [],
   "source": [
    "# 기본 작업 경로 설정\n",
    "import os\n",
    "notebook_path = os.path.abspath(\"../../project_3_git/readme.md\")\n",
    "notebook_dir = os.path.dirname(notebook_path)\n",
    "os.chdir(notebook_dir)\n",
    "\n",
    "# 현재 작업 디렉토리 출력\n",
    "print(\"Current working directory: \", os.getcwd())"
   ]
  },
  {
   "cell_type": "code",
   "execution_count": 4,
   "metadata": {},
   "outputs": [
    {
     "name": "stderr",
     "output_type": "stream",
     "text": [
      "c:\\Users\\crazy\\.conda\\envs\\kdt\\lib\\site-packages\\ultralytics\\nn\\tasks.py:733: FutureWarning: You are using `torch.load` with `weights_only=False` (the current default value), which uses the default pickle module implicitly. It is possible to construct malicious pickle data which will execute arbitrary code during unpickling (See https://github.com/pytorch/pytorch/blob/main/SECURITY.md#untrusted-models for more details). In a future release, the default value for `weights_only` will be flipped to `True`. This limits the functions that could be executed during unpickling. Arbitrary objects will no longer be allowed to be loaded via this mode unless they are explicitly allowlisted by the user via `torch.serialization.add_safe_globals`. We recommend you start setting `weights_only=True` for any use case where you don't have full control of the loaded file. Please open an issue on GitHub for any issues related to this experimental feature.\n",
      "  ckpt = torch.load(file, map_location=\"cpu\")\n"
     ]
    },
    {
     "name": "stdout",
     "output_type": "stream",
     "text": [
      "\n",
      "0: 320x640 1 Boy, 1 Hat, 1 Human face, 1 Man, 1636.8ms\n",
      "Speed: 8.5ms preprocess, 1636.8ms inference, 10.3ms postprocess per image at shape (1, 3, 320, 640)\n",
      "\n",
      "0: 256x512 1 panic, 77.1ms\n",
      "Speed: 1.0ms preprocess, 77.1ms inference, 5.0ms postprocess per image at shape (1, 3, 256, 512)\n"
     ]
    }
   ],
   "source": [
    "import cv2\n",
    "from ultralytics import YOLO\n",
    "from ultralytics.models import YOLOv10\n",
    "\n",
    "test_image = cv2.imread('test.png')\n",
    "\n",
    "model_object_detect = YOLO('models/yolov8x-oiv7.pt')\n",
    "model_face_emmotion = YOLOv10('models/yolov10n-face.pt')\n",
    "\n",
    "od = model_object_detect(test_image)[0]\n",
    "fc = model_face_emmotion(test_image)[0]"
   ]
  },
  {
   "cell_type": "code",
   "execution_count": 5,
   "metadata": {},
   "outputs": [],
   "source": [
    "import json\n",
    "\n",
    "# face 모델 라벨\n",
    "emotion_mapping = {0 : '분노', 1 : '슬픔', 2 : '공포', 3 : '기쁨'}\n",
    "\n",
    "# oiv7 모델 라벨 JSON 파일에서 딕셔너리 읽기\n",
    "with open('models/oiv7_jabels.json', 'r') as file:\n",
    "    oiv7_jabels = json.load(file)"
   ]
  },
  {
   "cell_type": "code",
   "execution_count": 6,
   "metadata": {},
   "outputs": [],
   "source": [
    "label_fc = [emotion_mapping[int(i)] for i in fc.boxes.cls]\n",
    "label_od = [oiv7_jabels[str(int(i))] for i in od.boxes.cls]\n"
   ]
  },
  {
   "cell_type": "code",
   "execution_count": 7,
   "metadata": {},
   "outputs": [],
   "source": [
    "all_labels = label_fc + label_od\n",
    "exception_lst = ['인간의 얼굴','의류','남자','여자','소년','소녀'] # 텍스트 입력 제외 목록"
   ]
  },
  {
   "cell_type": "code",
   "execution_count": 8,
   "metadata": {},
   "outputs": [
    {
     "data": {
      "text/plain": [
       "['공포', '인간의 얼굴', '모자', '남자', '소년']"
      ]
     },
     "execution_count": 8,
     "metadata": {},
     "output_type": "execute_result"
    }
   ],
   "source": [
    "all_labels"
   ]
  },
  {
   "cell_type": "code",
   "execution_count": 9,
   "metadata": {},
   "outputs": [],
   "source": [
    "text_intput_text = ''\n",
    "for i in all_labels:\n",
    "    if i not in exception_lst:\n",
    "        text_intput_text +=i + ','\n",
    "\n",
    "text_intput_text = text_intput_text[:-1]"
   ]
  },
  {
   "cell_type": "code",
   "execution_count": 10,
   "metadata": {},
   "outputs": [
    {
     "data": {
      "text/plain": [
       "'공포,모자'"
      ]
     },
     "execution_count": 10,
     "metadata": {},
     "output_type": "execute_result"
    }
   ],
   "source": [
    "text_intput_text"
   ]
  },
  {
   "cell_type": "code",
   "execution_count": 13,
   "metadata": {},
   "outputs": [
    {
     "name": "stdout",
     "output_type": "stream",
     "text": [
      "입력값: 공포,모자\n",
      "출력값: 무서운 분위기가 느껴지네요! 😱 어떤 상황인지 궁금해요!\n"
     ]
    }
   ],
   "source": [
    "from transformers import T5TokenizerFast, T5ForConditionalGeneration\n",
    "import torch\n",
    "\n",
    "# 저장된 모델과 토크나이저 로드\n",
    "model_save_path = 'models/t5/transfer_0/model/'\n",
    "tokenizer_save_path = 'models/t5/transfer_0/model/tokenizer/'\n",
    "\n",
    "model = T5ForConditionalGeneration.from_pretrained(model_save_path)\n",
    "tokenizer = T5TokenizerFast.from_pretrained(tokenizer_save_path)\n",
    "\n",
    "# 테스트 입력\n",
    "test_input = text_intput_text\n",
    "# 입력 토큰화\n",
    "input_ids = tokenizer.encode(test_input, return_tensors='pt')\n",
    "\n",
    "# 모델 예측\n",
    "with torch.no_grad():\n",
    "    outputs = model.generate(\n",
    "    input_ids, \n",
    "    max_length=50, \n",
    "    num_return_sequences=1,  # 여러 샘플을 원할 경우 1보다 크게 설정\n",
    "    do_sample=True,          # 샘플링 모드로 전환\n",
    "    top_k=50,                # 상위 k개 샘플 중에서 선택\n",
    "    top_p=0.95,              # 누적 확률이 0.95에 도달할 때까지 샘플 선택\n",
    "    temperature=1.0          # 낮은 온도는 더 결정적, 높은 온도는 더 랜덤한 출력\n",
    ")\n",
    "\n",
    "# 예측 결과 디코딩\n",
    "predicted_text = tokenizer.decode(outputs[0], skip_special_tokens=True)\n",
    "\n",
    "print(f\"입력값: {test_input}\")\n",
    "print(f\"출력값: {predicted_text}\")\n"
   ]
  },
  {
   "cell_type": "code",
   "execution_count": 30,
   "metadata": {},
   "outputs": [
    {
     "name": "stderr",
     "output_type": "stream",
     "text": [
      "The attention mask and the pad token id were not set. As a consequence, you may observe unexpected behavior. Please pass your input's `attention_mask` to obtain reliable results.\n",
      "Setting `pad_token_id` to `eos_token_id`:50256 for open-end generation.\n"
     ]
    },
    {
     "name": "stdout",
     "output_type": "stream",
     "text": [
      "Generated Text 1:\n",
      "입력값 : 공포,모자 \n",
      "출력값 : 모자 안에서 느껴지는 공포감이 느껴지네요! 😱 분위기가 정말 강렬해요! 🖤 �\n",
      "\n"
     ]
    }
   ],
   "source": [
    "from transformers import GPT2Tokenizer, GPT2LMHeadModel\n",
    "\n",
    "# 저장된 모델 및 토크나이저 불러오기\n",
    "model_path = 'models/gpt2/gpt2_base_1/models/'\n",
    "model = GPT2LMHeadModel.from_pretrained(model_path)\n",
    "tokenizer = GPT2Tokenizer.from_pretrained(model_path + '/tokenizer')\n",
    "\n",
    "# 평가 모드로 변경\n",
    "model.eval()\n",
    "\n",
    "def generate_text(prompt, model, tokenizer, max_length=128, num_return_sequences=1):\n",
    "    # 입력 텍스트를 토큰화\n",
    "    inputs = tokenizer.encode(prompt, return_tensors='pt')\n",
    "\n",
    "    # 생성 인자를 설정하여 모델이 텍스트를 생성\n",
    "    outputs = model.generate(\n",
    "        inputs,\n",
    "        max_length=max_length,\n",
    "        num_return_sequences=num_return_sequences,\n",
    "        no_repeat_ngram_size=50,\n",
    "        do_sample=True,\n",
    "        top_k=500,\n",
    "        top_p=0.95,\n",
    "        temperature=0.4,\n",
    "        early_stopping=True\n",
    "    )\n",
    "\n",
    "    # 생성된 텍스트를 디코딩\n",
    "    generated_texts = [tokenizer.decode(output, skip_special_tokens=True) for output in outputs]\n",
    "    \n",
    "    return generated_texts\n",
    "\n",
    "# 예시: \"prompt\"에 원하는 문장을 넣어서 결과를 확인\n",
    "prompt = f\"입력값 : {test_input} \\n출력값 :\"\n",
    "generated_texts = generate_text(prompt, model, tokenizer)\n",
    "    \n",
    "for i, text in enumerate(generated_texts):\n",
    "    print(f\"Generated Text {i+1}:\")\n",
    "    print(text)\n",
    "    print()"
   ]
  }
 ],
 "metadata": {
  "kernelspec": {
   "display_name": "Python 3 (ipykernel)",
   "language": "python",
   "name": "python3"
  },
  "language_info": {
   "codemirror_mode": {
    "name": "ipython",
    "version": 3
   },
   "file_extension": ".py",
   "mimetype": "text/x-python",
   "name": "python",
   "nbconvert_exporter": "python",
   "pygments_lexer": "ipython3",
   "version": "3.8.19"
  }
 },
 "nbformat": 4,
 "nbformat_minor": 2
}
