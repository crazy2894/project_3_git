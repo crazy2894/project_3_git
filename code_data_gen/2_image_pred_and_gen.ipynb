{
 "cells": [
  {
   "cell_type": "markdown",
   "metadata": {},
   "source": [
    "# 이미지 예측 결과 텍스트로 저장"
   ]
  },
  {
   "cell_type": "code",
   "execution_count": 2,
   "metadata": {},
   "outputs": [
    {
     "name": "stdout",
     "output_type": "stream",
     "text": [
      "Current working directory:  /mnt/e/py_data/project_3_git\n"
     ]
    }
   ],
   "source": [
    "# 기본 작업 경로 설정\n",
    "import os\n",
    "notebook_path = os.path.abspath(\"../2_image_pred_and_gen.ipynb\")\n",
    "notebook_dir = os.path.dirname(notebook_path)\n",
    "os.chdir(notebook_dir)\n",
    "\n",
    "# 현재 작업 디렉토리 출력\n",
    "print(\"Current working directory: \", os.getcwd())"
   ]
  },
  {
   "cell_type": "code",
   "execution_count": 8,
   "metadata": {},
   "outputs": [
    {
     "name": "stderr",
     "output_type": "stream",
     "text": [
      "/home/tommy/miniconda3/envs/p3/lib/python3.11/site-packages/ultralytics/nn/tasks.py:733: FutureWarning: You are using `torch.load` with `weights_only=False` (the current default value), which uses the default pickle module implicitly. It is possible to construct malicious pickle data which will execute arbitrary code during unpickling (See https://github.com/pytorch/pytorch/blob/main/SECURITY.md#untrusted-models for more details). In a future release, the default value for `weights_only` will be flipped to `True`. This limits the functions that could be executed during unpickling. Arbitrary objects will no longer be allowed to be loaded via this mode unless they are explicitly allowlisted by the user via `torch.serialization.add_safe_globals`. We recommend you start setting `weights_only=True` for any use case where you don't have full control of the loaded file. Please open an issue on GitHub for any issues related to this experimental feature.\n",
      "  ckpt = torch.load(file, map_location=\"cpu\")\n"
     ]
    }
   ],
   "source": [
    "import cv2\n",
    "from ultralytics import YOLO\n",
    "from ultralytics.models import YOLOv10\n",
    "import json\n",
    "\n",
    "oiv_json_file_path = 'data/yolo_oiv7/oiv7_jabels.json'\n",
    "# JSON 파일을 열고 읽기\n",
    "with open(oiv_json_file_path, 'r', encoding='utf-8') as file:\n",
    "    oiv_dict = (json.load(file))\n",
    "\n",
    "emotion_mapping = {\n",
    "    0 : '분노',\n",
    "    1 : '슬픔',\n",
    "    2 : '공포',\n",
    "    3 : '기쁨',\n",
    "}\n",
    "\n",
    "\n",
    "model_from_pret = YOLO('models/yolov8x-oiv7.pt')\n",
    "model_from_pret_2 = YOLOv10('models/yolov10n-face.pt')\n",
    "\n",
    "def output_of_pic(img_):\n",
    "    img__ = img_\n",
    "\n",
    "    answer = ''\n",
    "\n",
    "    for i in set([emotion_mapping[int(i)] for i in model_from_pret_2(img__, verbose=False)[0].boxes.cls]):\n",
    "        answer += i + ', '\n",
    "    for i in set([oiv_dict[str(int(i))] for i in model_from_pret(img__, verbose=False)[0].boxes.cls]):\n",
    "        answer += i + ', '\n",
    "\n",
    "    return answer[:-1]\n"
   ]
  },
  {
   "cell_type": "code",
   "execution_count": 9,
   "metadata": {},
   "outputs": [],
   "source": [
    "import os\n",
    "\n",
    "# 경로 설정\n",
    "directory_path_train = 'data/yolo_data/tra/'\n",
    "directory_path_valid = 'data/yolo_data/val/'\n",
    "\n",
    "# 파일만 필터링하여 리스트 생성\n",
    "files_only_train = [f for f in os.listdir(directory_path_train) if os.path.isfile(os.path.join(directory_path_train, f))]\n",
    "files_only_valid = [f for f in os.listdir(directory_path_valid) if os.path.isfile(os.path.join(directory_path_valid, f))]"
   ]
  },
  {
   "cell_type": "code",
   "execution_count": 12,
   "metadata": {},
   "outputs": [
    {
     "name": "stderr",
     "output_type": "stream",
     "text": [
      "100%|██████████| 2399/2399 [04:57<00:00,  8.06it/s]\n"
     ]
    }
   ],
   "source": [
    "from tqdm import tqdm\n",
    "\n",
    "for file_name_of_pic in tqdm(files_only_train):\n",
    "    if 'txt' not in file_name_of_pic:\n",
    "        file_image = cv2.imread('../data/yolo_data/train/' + file_name_of_pic)\n",
    "        pic_out = output_of_pic(file_image)[:-1]\n",
    "        with open('../data/text_data/input_for_text.txt', 'a', encoding='utf-8') as file:\n",
    "            file.write(pic_out + '\\n')\n"
   ]
  },
  {
   "cell_type": "code",
   "execution_count": null,
   "metadata": {},
   "outputs": [],
   "source": [
    "from tqdm import tqdm\n",
    "\n",
    "for file_name_of_pic in tqdm(files_only_valid):\n",
    "    if 'txt' not in file_name_of_pic:\n",
    "        file_image = cv2.imread('data/yolo_data/val/' + file_name_of_pic)\n",
    "        pic_out = output_of_pic(file_image)[:-1]\n",
    "        with open('data/text_data/input_for_text_valid.txt', 'a', encoding='utf-8') as file:\n",
    "            file.write(pic_out + '\\n')\n"
   ]
  }
 ],
 "metadata": {
  "kernelspec": {
   "display_name": "Python 3 (ipykernel)",
   "language": "python",
   "name": "python3"
  },
  "language_info": {
   "codemirror_mode": {
    "name": "ipython",
    "version": 3
   },
   "file_extension": ".py",
   "mimetype": "text/x-python",
   "name": "python",
   "nbconvert_exporter": "python",
   "pygments_lexer": "ipython3",
   "version": "3.11.9"
  }
 },
 "nbformat": 4,
 "nbformat_minor": 2
}
